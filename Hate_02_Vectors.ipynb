{
  "nbformat": 4,
  "nbformat_minor": 0,
  "metadata": {
    "colab": {
      "name": "Hate_02_Vectors.ipynb",
      "provenance": [],
      "collapsed_sections": []
    },
    "kernelspec": {
      "name": "python3",
      "display_name": "Python 3"
    },
    "language_info": {
      "name": "python"
    }
  },
  "cells": [
    {
      "cell_type": "markdown",
      "metadata": {
        "id": "gmCnHgW3wq55"
      },
      "source": [
        "## Transforming Words into Word Embeddings\n",
        "Words need to be converted into numbers for analysis in Natural Language Processing (NLP). Here, we convert all words in the tweets into vectors called embeddings using the social media corpus provided by Malaya (https://malaya.readthedocs.io/en/3.9/load-wordvector.html)."
      ]
    },
    {
      "cell_type": "code",
      "metadata": {
        "id": "foBd10QKUIU3"
      },
      "source": [
        "import numpy as np\n",
        "import pandas as pd"
      ],
      "execution_count": null,
      "outputs": []
    },
    {
      "cell_type": "markdown",
      "metadata": {
        "id": "xDuwuyWOxS3Q"
      },
      "source": [
        "Load data from Google Colab or local computer."
      ]
    },
    {
      "cell_type": "code",
      "metadata": {
        "colab": {
          "base_uri": "https://localhost:8080/"
        },
        "id": "lIjkgNqNUJPp",
        "outputId": "57238010-8aec-4787-8b29-8fb3c915a3db"
      },
      "source": [
        "# Run from Google Colab\n",
        "from google.colab import drive\n",
        "drive.mount('/content/drive')\n",
        "df = pd.read_csv('drive/MyDrive/Colab/Hate/tweets_malay.csv')"
      ],
      "execution_count": null,
      "outputs": [
        {
          "output_type": "stream",
          "name": "stdout",
          "text": [
            "Mounted at /content/drive\n"
          ]
        }
      ]
    },
    {
      "cell_type": "code",
      "metadata": {
        "colab": {
          "base_uri": "https://localhost:8080/",
          "height": 424
        },
        "id": "svxQq2bXUQNl",
        "outputId": "9628872a-92ab-4596-9e67-2c4455f43361"
      },
      "source": [
        "df.columns = [\"text\", \"label\"]\n",
        "df"
      ],
      "execution_count": null,
      "outputs": [
        {
          "output_type": "execute_result",
          "data": {
            "text/html": [
              "\n",
              "  <div id=\"df-c6f2556f-cd7a-4f9b-8e37-76a1b9e4fd10\">\n",
              "    <div class=\"colab-df-container\">\n",
              "      <div>\n",
              "<style scoped>\n",
              "    .dataframe tbody tr th:only-of-type {\n",
              "        vertical-align: middle;\n",
              "    }\n",
              "\n",
              "    .dataframe tbody tr th {\n",
              "        vertical-align: top;\n",
              "    }\n",
              "\n",
              "    .dataframe thead th {\n",
              "        text-align: right;\n",
              "    }\n",
              "</style>\n",
              "<table border=\"1\" class=\"dataframe\">\n",
              "  <thead>\n",
              "    <tr style=\"text-align: right;\">\n",
              "      <th></th>\n",
              "      <th>text</th>\n",
              "      <th>label</th>\n",
              "    </tr>\n",
              "  </thead>\n",
              "  <tbody>\n",
              "    <tr>\n",
              "      <th>0</th>\n",
              "      <td>haha babi dia punya tidak menyabar macam ada 1...</td>\n",
              "      <td>1</td>\n",
              "    </tr>\n",
              "    <tr>\n",
              "      <th>1</th>\n",
              "      <td>ini namanya pns kontol banyak gaya emosi aing ...</td>\n",
              "      <td>1</td>\n",
              "    </tr>\n",
              "    <tr>\n",
              "      <th>2</th>\n",
              "      <td>pukimak punya jantan trick baru dia guna   bud...</td>\n",
              "      <td>1</td>\n",
              "    </tr>\n",
              "    <tr>\n",
              "      <th>3</th>\n",
              "      <td>pantat apa eh jual karipap inti basi nak menia...</td>\n",
              "      <td>1</td>\n",
              "    </tr>\n",
              "    <tr>\n",
              "      <th>4</th>\n",
              "      <td>ini warga emas ke oku le frontliner apa kepent...</td>\n",
              "      <td>1</td>\n",
              "    </tr>\n",
              "    <tr>\n",
              "      <th>...</th>\n",
              "      <td>...</td>\n",
              "      <td>...</td>\n",
              "    </tr>\n",
              "    <tr>\n",
              "      <th>1855</th>\n",
              "      <td>temen gw banget sudah tau doi nya toxic banget...</td>\n",
              "      <td>0</td>\n",
              "    </tr>\n",
              "    <tr>\n",
              "      <th>1856</th>\n",
              "      <td>kau komen lebai la mende la vid lucah pn kau l...</td>\n",
              "      <td>1</td>\n",
              "    </tr>\n",
              "    <tr>\n",
              "      <th>1857</th>\n",
              "      <td>pastu kau tahu kain dalam eh babi aku dah paka...</td>\n",
              "      <td>1</td>\n",
              "    </tr>\n",
              "    <tr>\n",
              "      <th>1858</th>\n",
              "      <td>sekarang ramai babi dah pandai drive kete atas...</td>\n",
              "      <td>1</td>\n",
              "    </tr>\n",
              "    <tr>\n",
              "      <th>1859</th>\n",
              "      <td>awak ada potensi hilman   ya babi ada potensi ...</td>\n",
              "      <td>1</td>\n",
              "    </tr>\n",
              "  </tbody>\n",
              "</table>\n",
              "<p>1860 rows × 2 columns</p>\n",
              "</div>\n",
              "      <button class=\"colab-df-convert\" onclick=\"convertToInteractive('df-c6f2556f-cd7a-4f9b-8e37-76a1b9e4fd10')\"\n",
              "              title=\"Convert this dataframe to an interactive table.\"\n",
              "              style=\"display:none;\">\n",
              "        \n",
              "  <svg xmlns=\"http://www.w3.org/2000/svg\" height=\"24px\"viewBox=\"0 0 24 24\"\n",
              "       width=\"24px\">\n",
              "    <path d=\"M0 0h24v24H0V0z\" fill=\"none\"/>\n",
              "    <path d=\"M18.56 5.44l.94 2.06.94-2.06 2.06-.94-2.06-.94-.94-2.06-.94 2.06-2.06.94zm-11 1L8.5 8.5l.94-2.06 2.06-.94-2.06-.94L8.5 2.5l-.94 2.06-2.06.94zm10 10l.94 2.06.94-2.06 2.06-.94-2.06-.94-.94-2.06-.94 2.06-2.06.94z\"/><path d=\"M17.41 7.96l-1.37-1.37c-.4-.4-.92-.59-1.43-.59-.52 0-1.04.2-1.43.59L10.3 9.45l-7.72 7.72c-.78.78-.78 2.05 0 2.83L4 21.41c.39.39.9.59 1.41.59.51 0 1.02-.2 1.41-.59l7.78-7.78 2.81-2.81c.8-.78.8-2.07 0-2.86zM5.41 20L4 18.59l7.72-7.72 1.47 1.35L5.41 20z\"/>\n",
              "  </svg>\n",
              "      </button>\n",
              "      \n",
              "  <style>\n",
              "    .colab-df-container {\n",
              "      display:flex;\n",
              "      flex-wrap:wrap;\n",
              "      gap: 12px;\n",
              "    }\n",
              "\n",
              "    .colab-df-convert {\n",
              "      background-color: #E8F0FE;\n",
              "      border: none;\n",
              "      border-radius: 50%;\n",
              "      cursor: pointer;\n",
              "      display: none;\n",
              "      fill: #1967D2;\n",
              "      height: 32px;\n",
              "      padding: 0 0 0 0;\n",
              "      width: 32px;\n",
              "    }\n",
              "\n",
              "    .colab-df-convert:hover {\n",
              "      background-color: #E2EBFA;\n",
              "      box-shadow: 0px 1px 2px rgba(60, 64, 67, 0.3), 0px 1px 3px 1px rgba(60, 64, 67, 0.15);\n",
              "      fill: #174EA6;\n",
              "    }\n",
              "\n",
              "    [theme=dark] .colab-df-convert {\n",
              "      background-color: #3B4455;\n",
              "      fill: #D2E3FC;\n",
              "    }\n",
              "\n",
              "    [theme=dark] .colab-df-convert:hover {\n",
              "      background-color: #434B5C;\n",
              "      box-shadow: 0px 1px 3px 1px rgba(0, 0, 0, 0.15);\n",
              "      filter: drop-shadow(0px 1px 2px rgba(0, 0, 0, 0.3));\n",
              "      fill: #FFFFFF;\n",
              "    }\n",
              "  </style>\n",
              "\n",
              "      <script>\n",
              "        const buttonEl =\n",
              "          document.querySelector('#df-c6f2556f-cd7a-4f9b-8e37-76a1b9e4fd10 button.colab-df-convert');\n",
              "        buttonEl.style.display =\n",
              "          google.colab.kernel.accessAllowed ? 'block' : 'none';\n",
              "\n",
              "        async function convertToInteractive(key) {\n",
              "          const element = document.querySelector('#df-c6f2556f-cd7a-4f9b-8e37-76a1b9e4fd10');\n",
              "          const dataTable =\n",
              "            await google.colab.kernel.invokeFunction('convertToInteractive',\n",
              "                                                     [key], {});\n",
              "          if (!dataTable) return;\n",
              "\n",
              "          const docLinkHtml = 'Like what you see? Visit the ' +\n",
              "            '<a target=\"_blank\" href=https://colab.research.google.com/notebooks/data_table.ipynb>data table notebook</a>'\n",
              "            + ' to learn more about interactive tables.';\n",
              "          element.innerHTML = '';\n",
              "          dataTable['output_type'] = 'display_data';\n",
              "          await google.colab.output.renderOutput(dataTable, element);\n",
              "          const docLink = document.createElement('div');\n",
              "          docLink.innerHTML = docLinkHtml;\n",
              "          element.appendChild(docLink);\n",
              "        }\n",
              "      </script>\n",
              "    </div>\n",
              "  </div>\n",
              "  "
            ],
            "text/plain": [
              "                                                   text  label\n",
              "0     haha babi dia punya tidak menyabar macam ada 1...      1\n",
              "1     ini namanya pns kontol banyak gaya emosi aing ...      1\n",
              "2     pukimak punya jantan trick baru dia guna   bud...      1\n",
              "3     pantat apa eh jual karipap inti basi nak menia...      1\n",
              "4     ini warga emas ke oku le frontliner apa kepent...      1\n",
              "...                                                 ...    ...\n",
              "1855  temen gw banget sudah tau doi nya toxic banget...      0\n",
              "1856  kau komen lebai la mende la vid lucah pn kau l...      1\n",
              "1857  pastu kau tahu kain dalam eh babi aku dah paka...      1\n",
              "1858  sekarang ramai babi dah pandai drive kete atas...      1\n",
              "1859  awak ada potensi hilman   ya babi ada potensi ...      1\n",
              "\n",
              "[1860 rows x 2 columns]"
            ]
          },
          "metadata": {},
          "execution_count": 3
        }
      ]
    },
    {
      "cell_type": "code",
      "source": [
        "df['label'].value_counts()"
      ],
      "metadata": {
        "colab": {
          "base_uri": "https://localhost:8080/"
        },
        "id": "xdarDeWZuclq",
        "outputId": "91d7d382-3324-4bc7-c6eb-ad57ddd6f1d5"
      },
      "execution_count": null,
      "outputs": [
        {
          "output_type": "execute_result",
          "data": {
            "text/plain": [
              "1    1188\n",
              "0     672\n",
              "Name: label, dtype: int64"
            ]
          },
          "metadata": {},
          "execution_count": 4
        }
      ]
    },
    {
      "cell_type": "markdown",
      "metadata": {
        "id": "NuYd_mTS0lZH"
      },
      "source": [
        "Load the word embeddings from Malaya social media corpus."
      ]
    },
    {
      "cell_type": "code",
      "metadata": {
        "id": "myCEm9eqxl5f",
        "colab": {
          "base_uri": "https://localhost:8080/"
        },
        "outputId": "cd1495be-7ee8-4424-d69a-c7ab2cc66c06"
      },
      "source": [
        "import joblib\n",
        "\n",
        "def load_word_vector(file = 'drive/MyDrive/Colab/Hate/word_vector.pkl'):\n",
        "  from os import path\n",
        "\n",
        "  if path.exists(file):    \n",
        "    print('Loading word vectors...')\n",
        "    word_vector = joblib.load(file)\n",
        "    print('Word vectors loaded.')\n",
        "  else:\n",
        "    !pip install malaya\n",
        "    import malaya\n",
        "\n",
        "    print('Generating word vectors...')\n",
        "    vocab, embedded = malaya.wordvector.load(model = 'socialmedia')\n",
        "    wv = malaya.wordvector.WordVector(embedded, vocab)\n",
        "    word_vector = {word: wv.get_vector_by_name(word) for word in wv.words}\n",
        "    joblib.dump(word_vector, file)\n",
        "    print('Word vectors saved.')\n",
        "    \n",
        "  return word_vector\n",
        "\n",
        "word_vector = load_word_vector()"
      ],
      "execution_count": null,
      "outputs": [
        {
          "output_type": "stream",
          "name": "stdout",
          "text": [
            "Loading word vectors...\n",
            "Word vectors loaded.\n"
          ]
        }
      ]
    },
    {
      "cell_type": "code",
      "metadata": {
        "colab": {
          "base_uri": "https://localhost:8080/"
        },
        "id": "aCtDcw7OSQtx",
        "outputId": "7a0d2a7e-e43e-4d67-90ab-103498df38a4"
      },
      "source": [
        "# Show the word vector of the word Malaysia\n",
        "word_vector['malaysia']"
      ],
      "execution_count": null,
      "outputs": [
        {
          "output_type": "execute_result",
          "data": {
            "text/plain": [
              "array([-2.30527613e-02, -7.00099543e-02, -7.73596168e-02,  5.76117575e-01,\n",
              "        2.91033030e-01, -1.75550848e-01, -7.64554320e-03, -1.58667445e-01,\n",
              "       -3.04837413e-02,  1.37347266e-01, -1.14185810e-01, -1.53691053e-01,\n",
              "       -2.77505696e-01,  1.81020275e-02,  1.18203446e-01, -1.21642143e-01,\n",
              "       -5.64342737e-02, -4.49809104e-01,  1.55513704e-01,  1.95306510e-01,\n",
              "        1.13781989e-02, -1.10966735e-01, -4.31171991e-02, -6.23263121e-02,\n",
              "       -1.46340027e-01,  2.90884599e-02,  1.68946147e-01, -5.46257079e-01,\n",
              "       -2.80946821e-01, -5.25284512e-03, -4.22020286e-01, -3.56583521e-02,\n",
              "       -1.92307606e-02, -3.48818123e-01, -2.38249555e-01, -1.02884211e-01,\n",
              "       -3.54436100e-01, -1.33764833e-01,  2.58435667e-01, -8.92456025e-02,\n",
              "       -6.93929613e-01,  4.63487327e-01, -2.31501445e-01,  3.48954909e-02,\n",
              "        2.87289880e-02, -3.62083554e-01, -2.41099656e-01,  6.39930591e-02,\n",
              "       -1.49497420e-01, -2.81769693e-01,  2.09515467e-01, -4.19085175e-01,\n",
              "        6.95659369e-02,  4.22306538e-01,  4.77248803e-02,  2.39817351e-01,\n",
              "        1.97034732e-01,  2.58058220e-01,  3.04058250e-02, -6.16322868e-02,\n",
              "        2.02843621e-01, -3.26748312e-01, -7.63850510e-02,  6.10764325e-01,\n",
              "        6.22727461e-02,  1.06503211e-01,  2.01862276e-01, -3.49413194e-02,\n",
              "       -1.70488656e-02,  8.85265023e-02,  1.37047201e-01,  3.04053351e-02,\n",
              "       -3.15820187e-01,  1.16204232e-01,  1.39126629e-01,  2.16762066e-01,\n",
              "       -4.22790758e-02, -5.09235799e-01, -1.31018162e-01,  3.25660288e-01,\n",
              "       -7.78645217e-01, -7.92707801e-02,  1.70731232e-01,  3.21577839e-03,\n",
              "       -7.21966894e-03,  1.04898565e-01, -4.66746926e-01, -1.95382424e-02,\n",
              "       -4.38174486e-01, -1.07868008e-01, -1.05038874e-01,  4.28337038e-01,\n",
              "       -1.45496696e-01,  6.64550662e-02, -2.47185305e-01, -1.36292502e-01,\n",
              "        5.45425937e-02,  3.63603890e-01,  4.66962188e-01,  7.42534697e-02,\n",
              "        7.41833076e-02,  5.30448198e-01, -1.27257615e-01, -4.11229877e-04,\n",
              "        1.13176793e-01, -2.42898297e-02, -9.17489640e-04,  8.14764649e-02,\n",
              "       -5.04743218e-01,  2.48030704e-02,  5.15086316e-02,  4.17281203e-02,\n",
              "       -2.61908263e-01, -3.83694121e-03, -2.93702483e-01,  5.72178140e-02,\n",
              "        7.11924613e-01, -1.63305491e-01,  1.13404006e-01,  9.66921821e-02,\n",
              "        2.87246466e-01, -1.55136921e-02,  3.27035896e-02,  2.36001775e-01,\n",
              "        4.96587344e-02, -3.85837667e-02,  7.90909603e-02,  1.49246514e-01,\n",
              "        1.35853589e-01,  3.64841670e-02,  2.51119226e-01, -9.95295346e-02,\n",
              "        5.07826358e-02,  6.03551753e-02,  1.86671779e-01,  5.40829301e-02,\n",
              "       -1.15523092e-01,  2.00879484e-01, -3.60835850e-01, -3.45385335e-02,\n",
              "       -1.88986048e-01,  1.32151991e-02,  2.41765663e-01,  1.16265871e-01,\n",
              "       -1.36920407e-01,  1.62077114e-01,  2.82707095e-01,  1.10602655e-01,\n",
              "        6.67687237e-01,  1.98167667e-01, -3.79408538e-01, -4.58728015e-01,\n",
              "        4.33119312e-02,  6.07851706e-02,  2.62629110e-02, -2.50349551e-01,\n",
              "        1.87293857e-01, -1.03740118e-01,  2.92921007e-01, -8.03491473e-02,\n",
              "       -3.74102026e-01, -1.64589536e+00,  1.62701488e-01,  1.01839714e-01,\n",
              "       -1.67664103e-02, -3.44838314e-02, -1.34634450e-01,  9.14112389e-01,\n",
              "       -1.98835973e-02,  9.59300026e-02,  1.44948782e-02, -7.03074262e-02,\n",
              "        1.25936165e-01,  3.83156091e-01, -3.35901640e-02,  3.91129583e-01,\n",
              "       -1.62644759e-01,  1.67737782e-01, -2.86089182e-01,  5.66568561e-02,\n",
              "        2.83089727e-01, -7.37378672e-02,  1.98388919e-01, -4.67688292e-01,\n",
              "       -7.37032890e-02,  5.28414622e-02,  8.65535811e-02, -6.15675487e-02,\n",
              "        7.37241447e-01,  6.84711933e-02, -1.10755280e-01,  1.08015239e-02,\n",
              "        9.04734209e-02, -8.05423781e-02, -1.13236263e-01,  8.44870508e-02,\n",
              "        1.67960495e-01,  1.10645369e-01,  1.04391046e-01,  1.44953892e-01,\n",
              "        5.31556249e-01, -1.78948894e-01,  2.14324847e-01,  2.72229929e-02,\n",
              "       -1.73271671e-02, -4.56800126e-02, -2.66653210e-01, -3.82834561e-02,\n",
              "       -5.36752567e-02,  3.13996756e-03, -7.80667141e-02,  2.96586096e-01,\n",
              "       -1.61769211e-01, -6.52276725e-02,  2.33114138e-01,  7.30647743e-02,\n",
              "       -1.27369031e-01, -8.68574530e-02, -1.22879028e-01,  7.04747066e-02,\n",
              "       -3.61708701e-01, -1.44687384e-01,  1.11516677e-01, -1.46029219e-01,\n",
              "       -6.80510513e-03,  7.81760439e-02,  7.68428668e-03, -1.67187899e-02,\n",
              "       -6.08187437e-01, -9.60552879e-03,  5.69271147e-01, -1.36553794e-01,\n",
              "       -8.05145279e-02, -4.15935755e-01, -1.91913486e-01, -3.73301059e-02,\n",
              "       -2.13076666e-01, -2.43080944e-01, -1.98995993e-01,  3.98494080e-02,\n",
              "       -5.45604751e-02,  7.01659247e-02, -6.20132349e-02, -4.63738665e-02,\n",
              "       -1.86835051e-01, -6.02102466e-02, -9.12354812e-02,  1.78935051e-01,\n",
              "       -1.80101842e-01,  7.71886855e-02, -5.32030463e-01, -1.49439991e-01,\n",
              "        1.02039594e-02,  5.21825962e-02, -6.72775209e-02,  2.10376203e-01],\n",
              "      dtype=float32)"
            ]
          },
          "metadata": {},
          "execution_count": 6
        }
      ]
    },
    {
      "cell_type": "markdown",
      "metadata": {
        "id": "bsrDxjBTxm-A"
      },
      "source": [
        "Get the word embeddings from Malaya corpus and use them to transform words in the data."
      ]
    },
    {
      "cell_type": "code",
      "metadata": {
        "id": "_oAj2j2knnOF"
      },
      "source": [
        "def get_embeddings(doc, word_vector):\n",
        "  words = doc.split()\n",
        "  keys = word_vector.keys()\n",
        "  v = np.array([word_vector[word] for word in words if word in keys])\n",
        "\n",
        "  if v.size:\n",
        "    embeddings = v.mean(axis = 0)\n",
        "  else:\n",
        "    embeddings = np.zeros(256, dtype=float)\n",
        "\n",
        "  return embeddings"
      ],
      "execution_count": null,
      "outputs": []
    },
    {
      "cell_type": "code",
      "metadata": {
        "colab": {
          "base_uri": "https://localhost:8080/",
          "height": 424
        },
        "id": "50Wx9xzwg9G3",
        "outputId": "2fc4a67d-f4dc-4bb9-fe96-0ca3b70d5a4e"
      },
      "source": [
        "df['embeddings'] = df.apply(lambda x: get_embeddings(x['text'], word_vector), axis = 1)\n",
        "df"
      ],
      "execution_count": null,
      "outputs": [
        {
          "output_type": "execute_result",
          "data": {
            "text/html": [
              "\n",
              "  <div id=\"df-9f3f7c70-c488-47bb-beee-51c0e88ec197\">\n",
              "    <div class=\"colab-df-container\">\n",
              "      <div>\n",
              "<style scoped>\n",
              "    .dataframe tbody tr th:only-of-type {\n",
              "        vertical-align: middle;\n",
              "    }\n",
              "\n",
              "    .dataframe tbody tr th {\n",
              "        vertical-align: top;\n",
              "    }\n",
              "\n",
              "    .dataframe thead th {\n",
              "        text-align: right;\n",
              "    }\n",
              "</style>\n",
              "<table border=\"1\" class=\"dataframe\">\n",
              "  <thead>\n",
              "    <tr style=\"text-align: right;\">\n",
              "      <th></th>\n",
              "      <th>text</th>\n",
              "      <th>label</th>\n",
              "      <th>embeddings</th>\n",
              "    </tr>\n",
              "  </thead>\n",
              "  <tbody>\n",
              "    <tr>\n",
              "      <th>0</th>\n",
              "      <td>haha babi dia punya tidak menyabar macam ada 1...</td>\n",
              "      <td>1</td>\n",
              "      <td>[0.014141768, -0.1007184, -0.13147345, -0.0103...</td>\n",
              "    </tr>\n",
              "    <tr>\n",
              "      <th>1</th>\n",
              "      <td>ini namanya pns kontol banyak gaya emosi aing ...</td>\n",
              "      <td>1</td>\n",
              "      <td>[-0.010759941, -0.08435769, -0.08514198, -0.03...</td>\n",
              "    </tr>\n",
              "    <tr>\n",
              "      <th>2</th>\n",
              "      <td>pukimak punya jantan trick baru dia guna   bud...</td>\n",
              "      <td>1</td>\n",
              "      <td>[0.030590499, -0.091671385, -0.11107549, -0.02...</td>\n",
              "    </tr>\n",
              "    <tr>\n",
              "      <th>3</th>\n",
              "      <td>pantat apa eh jual karipap inti basi nak menia...</td>\n",
              "      <td>1</td>\n",
              "      <td>[-0.092314355, -0.09794184, -0.118868366, -0.0...</td>\n",
              "    </tr>\n",
              "    <tr>\n",
              "      <th>4</th>\n",
              "      <td>ini warga emas ke oku le frontliner apa kepent...</td>\n",
              "      <td>1</td>\n",
              "      <td>[0.06710751, -0.09331882, -0.11471927, -0.0963...</td>\n",
              "    </tr>\n",
              "    <tr>\n",
              "      <th>...</th>\n",
              "      <td>...</td>\n",
              "      <td>...</td>\n",
              "      <td>...</td>\n",
              "    </tr>\n",
              "    <tr>\n",
              "      <th>1855</th>\n",
              "      <td>temen gw banget sudah tau doi nya toxic banget...</td>\n",
              "      <td>0</td>\n",
              "      <td>[0.030354695, -0.13118468, -0.11131802, -0.078...</td>\n",
              "    </tr>\n",
              "    <tr>\n",
              "      <th>1856</th>\n",
              "      <td>kau komen lebai la mende la vid lucah pn kau l...</td>\n",
              "      <td>1</td>\n",
              "      <td>[0.054582026, -0.11036155, -0.10040197, -0.104...</td>\n",
              "    </tr>\n",
              "    <tr>\n",
              "      <th>1857</th>\n",
              "      <td>pastu kau tahu kain dalam eh babi aku dah paka...</td>\n",
              "      <td>1</td>\n",
              "      <td>[0.03438075, -0.0802009, -0.11075263, -0.09538...</td>\n",
              "    </tr>\n",
              "    <tr>\n",
              "      <th>1858</th>\n",
              "      <td>sekarang ramai babi dah pandai drive kete atas...</td>\n",
              "      <td>1</td>\n",
              "      <td>[0.08207133, -0.06931462, -0.104793094, 0.0350...</td>\n",
              "    </tr>\n",
              "    <tr>\n",
              "      <th>1859</th>\n",
              "      <td>awak ada potensi hilman   ya babi ada potensi ...</td>\n",
              "      <td>1</td>\n",
              "      <td>[0.14572485, -0.114677586, -0.03459674, -0.076...</td>\n",
              "    </tr>\n",
              "  </tbody>\n",
              "</table>\n",
              "<p>1860 rows × 3 columns</p>\n",
              "</div>\n",
              "      <button class=\"colab-df-convert\" onclick=\"convertToInteractive('df-9f3f7c70-c488-47bb-beee-51c0e88ec197')\"\n",
              "              title=\"Convert this dataframe to an interactive table.\"\n",
              "              style=\"display:none;\">\n",
              "        \n",
              "  <svg xmlns=\"http://www.w3.org/2000/svg\" height=\"24px\"viewBox=\"0 0 24 24\"\n",
              "       width=\"24px\">\n",
              "    <path d=\"M0 0h24v24H0V0z\" fill=\"none\"/>\n",
              "    <path d=\"M18.56 5.44l.94 2.06.94-2.06 2.06-.94-2.06-.94-.94-2.06-.94 2.06-2.06.94zm-11 1L8.5 8.5l.94-2.06 2.06-.94-2.06-.94L8.5 2.5l-.94 2.06-2.06.94zm10 10l.94 2.06.94-2.06 2.06-.94-2.06-.94-.94-2.06-.94 2.06-2.06.94z\"/><path d=\"M17.41 7.96l-1.37-1.37c-.4-.4-.92-.59-1.43-.59-.52 0-1.04.2-1.43.59L10.3 9.45l-7.72 7.72c-.78.78-.78 2.05 0 2.83L4 21.41c.39.39.9.59 1.41.59.51 0 1.02-.2 1.41-.59l7.78-7.78 2.81-2.81c.8-.78.8-2.07 0-2.86zM5.41 20L4 18.59l7.72-7.72 1.47 1.35L5.41 20z\"/>\n",
              "  </svg>\n",
              "      </button>\n",
              "      \n",
              "  <style>\n",
              "    .colab-df-container {\n",
              "      display:flex;\n",
              "      flex-wrap:wrap;\n",
              "      gap: 12px;\n",
              "    }\n",
              "\n",
              "    .colab-df-convert {\n",
              "      background-color: #E8F0FE;\n",
              "      border: none;\n",
              "      border-radius: 50%;\n",
              "      cursor: pointer;\n",
              "      display: none;\n",
              "      fill: #1967D2;\n",
              "      height: 32px;\n",
              "      padding: 0 0 0 0;\n",
              "      width: 32px;\n",
              "    }\n",
              "\n",
              "    .colab-df-convert:hover {\n",
              "      background-color: #E2EBFA;\n",
              "      box-shadow: 0px 1px 2px rgba(60, 64, 67, 0.3), 0px 1px 3px 1px rgba(60, 64, 67, 0.15);\n",
              "      fill: #174EA6;\n",
              "    }\n",
              "\n",
              "    [theme=dark] .colab-df-convert {\n",
              "      background-color: #3B4455;\n",
              "      fill: #D2E3FC;\n",
              "    }\n",
              "\n",
              "    [theme=dark] .colab-df-convert:hover {\n",
              "      background-color: #434B5C;\n",
              "      box-shadow: 0px 1px 3px 1px rgba(0, 0, 0, 0.15);\n",
              "      filter: drop-shadow(0px 1px 2px rgba(0, 0, 0, 0.3));\n",
              "      fill: #FFFFFF;\n",
              "    }\n",
              "  </style>\n",
              "\n",
              "      <script>\n",
              "        const buttonEl =\n",
              "          document.querySelector('#df-9f3f7c70-c488-47bb-beee-51c0e88ec197 button.colab-df-convert');\n",
              "        buttonEl.style.display =\n",
              "          google.colab.kernel.accessAllowed ? 'block' : 'none';\n",
              "\n",
              "        async function convertToInteractive(key) {\n",
              "          const element = document.querySelector('#df-9f3f7c70-c488-47bb-beee-51c0e88ec197');\n",
              "          const dataTable =\n",
              "            await google.colab.kernel.invokeFunction('convertToInteractive',\n",
              "                                                     [key], {});\n",
              "          if (!dataTable) return;\n",
              "\n",
              "          const docLinkHtml = 'Like what you see? Visit the ' +\n",
              "            '<a target=\"_blank\" href=https://colab.research.google.com/notebooks/data_table.ipynb>data table notebook</a>'\n",
              "            + ' to learn more about interactive tables.';\n",
              "          element.innerHTML = '';\n",
              "          dataTable['output_type'] = 'display_data';\n",
              "          await google.colab.output.renderOutput(dataTable, element);\n",
              "          const docLink = document.createElement('div');\n",
              "          docLink.innerHTML = docLinkHtml;\n",
              "          element.appendChild(docLink);\n",
              "        }\n",
              "      </script>\n",
              "    </div>\n",
              "  </div>\n",
              "  "
            ],
            "text/plain": [
              "                                                   text  ...                                         embeddings\n",
              "0     haha babi dia punya tidak menyabar macam ada 1...  ...  [0.014141768, -0.1007184, -0.13147345, -0.0103...\n",
              "1     ini namanya pns kontol banyak gaya emosi aing ...  ...  [-0.010759941, -0.08435769, -0.08514198, -0.03...\n",
              "2     pukimak punya jantan trick baru dia guna   bud...  ...  [0.030590499, -0.091671385, -0.11107549, -0.02...\n",
              "3     pantat apa eh jual karipap inti basi nak menia...  ...  [-0.092314355, -0.09794184, -0.118868366, -0.0...\n",
              "4     ini warga emas ke oku le frontliner apa kepent...  ...  [0.06710751, -0.09331882, -0.11471927, -0.0963...\n",
              "...                                                 ...  ...                                                ...\n",
              "1855  temen gw banget sudah tau doi nya toxic banget...  ...  [0.030354695, -0.13118468, -0.11131802, -0.078...\n",
              "1856  kau komen lebai la mende la vid lucah pn kau l...  ...  [0.054582026, -0.11036155, -0.10040197, -0.104...\n",
              "1857  pastu kau tahu kain dalam eh babi aku dah paka...  ...  [0.03438075, -0.0802009, -0.11075263, -0.09538...\n",
              "1858  sekarang ramai babi dah pandai drive kete atas...  ...  [0.08207133, -0.06931462, -0.104793094, 0.0350...\n",
              "1859  awak ada potensi hilman   ya babi ada potensi ...  ...  [0.14572485, -0.114677586, -0.03459674, -0.076...\n",
              "\n",
              "[1860 rows x 3 columns]"
            ]
          },
          "metadata": {},
          "execution_count": 8
        }
      ]
    }
  ]
}