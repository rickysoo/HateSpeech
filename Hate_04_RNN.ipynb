{
  "cells": [
    {
      "cell_type": "markdown",
      "metadata": {
        "id": "yj39bniKyfXL"
      },
      "source": [
        "## Hate Speech Text Classifier Using RNN\n",
        "RNN (Recurrent Neural Network) is suitable for analyzing data in sequential manner, especially for text. Here, we first convert all words in the data to their word embeddings. Then we build an RNN model using the best hyperparameters found using Random Search in another notebook."
      ]
    },
    {
      "cell_type": "code",
      "execution_count": 1,
      "metadata": {
        "id": "GpGvjQv1pAi6"
      },
      "outputs": [],
      "source": [
        "import numpy as np\n",
        "import pandas as pd"
      ]
    },
    {
      "cell_type": "code",
      "execution_count": 2,
      "metadata": {
        "id": "n3OqzNTRtcv4"
      },
      "outputs": [],
      "source": [
        "import tensorflow as tf\n",
        "from tensorflow import keras\n",
        "from keras.preprocessing.text import Tokenizer\n",
        "from keras.preprocessing.sequence import pad_sequences"
      ]
    },
    {
      "cell_type": "markdown",
      "metadata": {
        "id": "cbVz-l7j0gfS"
      },
      "source": [
        "Load data from Google Colab or local computer."
      ]
    },
    {
      "cell_type": "code",
      "execution_count": 3,
      "metadata": {
        "id": "RZRcvyC-q0Hw",
        "colab": {
          "base_uri": "https://localhost:8080/"
        },
        "outputId": "c3db5ebe-5e12-4ef3-967a-b36415e74a54"
      },
      "outputs": [
        {
          "output_type": "stream",
          "name": "stdout",
          "text": [
            "Mounted at /content/drive\n"
          ]
        }
      ],
      "source": [
        "# Run from Google Colab\n",
        "from google.colab import drive\n",
        "drive.mount('/content/drive')\n",
        "df = pd.read_csv('drive/MyDrive/Colab/Hate/tweets_malay.csv')"
      ]
    },
    {
      "cell_type": "code",
      "execution_count": 4,
      "metadata": {
        "colab": {
          "base_uri": "https://localhost:8080/",
          "height": 424
        },
        "id": "6Vr850eetEam",
        "outputId": "d4473c4a-bf7c-4875-974e-d5aa140b0992"
      },
      "outputs": [
        {
          "output_type": "execute_result",
          "data": {
            "text/html": [
              "\n",
              "  <div id=\"df-24dd6528-16dd-4def-94a9-039e2372411a\">\n",
              "    <div class=\"colab-df-container\">\n",
              "      <div>\n",
              "<style scoped>\n",
              "    .dataframe tbody tr th:only-of-type {\n",
              "        vertical-align: middle;\n",
              "    }\n",
              "\n",
              "    .dataframe tbody tr th {\n",
              "        vertical-align: top;\n",
              "    }\n",
              "\n",
              "    .dataframe thead th {\n",
              "        text-align: right;\n",
              "    }\n",
              "</style>\n",
              "<table border=\"1\" class=\"dataframe\">\n",
              "  <thead>\n",
              "    <tr style=\"text-align: right;\">\n",
              "      <th></th>\n",
              "      <th>text</th>\n",
              "      <th>label</th>\n",
              "    </tr>\n",
              "  </thead>\n",
              "  <tbody>\n",
              "    <tr>\n",
              "      <th>0</th>\n",
              "      <td>haha babi dia punya tidak menyabar macam ada 1...</td>\n",
              "      <td>1</td>\n",
              "    </tr>\n",
              "    <tr>\n",
              "      <th>1</th>\n",
              "      <td>ini namanya pns kontol banyak gaya emosi aing ...</td>\n",
              "      <td>1</td>\n",
              "    </tr>\n",
              "    <tr>\n",
              "      <th>2</th>\n",
              "      <td>pukimak punya jantan trick baru dia guna   bud...</td>\n",
              "      <td>1</td>\n",
              "    </tr>\n",
              "    <tr>\n",
              "      <th>3</th>\n",
              "      <td>pantat apa eh jual karipap inti basi nak menia...</td>\n",
              "      <td>1</td>\n",
              "    </tr>\n",
              "    <tr>\n",
              "      <th>4</th>\n",
              "      <td>ini warga emas ke oku le frontliner apa kepent...</td>\n",
              "      <td>1</td>\n",
              "    </tr>\n",
              "    <tr>\n",
              "      <th>...</th>\n",
              "      <td>...</td>\n",
              "      <td>...</td>\n",
              "    </tr>\n",
              "    <tr>\n",
              "      <th>1855</th>\n",
              "      <td>temen gw banget sudah tau doi nya toxic banget...</td>\n",
              "      <td>0</td>\n",
              "    </tr>\n",
              "    <tr>\n",
              "      <th>1856</th>\n",
              "      <td>kau komen lebai la mende la vid lucah pn kau l...</td>\n",
              "      <td>1</td>\n",
              "    </tr>\n",
              "    <tr>\n",
              "      <th>1857</th>\n",
              "      <td>pastu kau tahu kain dalam eh babi aku dah paka...</td>\n",
              "      <td>1</td>\n",
              "    </tr>\n",
              "    <tr>\n",
              "      <th>1858</th>\n",
              "      <td>sekarang ramai babi dah pandai drive kete atas...</td>\n",
              "      <td>1</td>\n",
              "    </tr>\n",
              "    <tr>\n",
              "      <th>1859</th>\n",
              "      <td>awak ada potensi hilman   ya babi ada potensi ...</td>\n",
              "      <td>1</td>\n",
              "    </tr>\n",
              "  </tbody>\n",
              "</table>\n",
              "<p>1860 rows × 2 columns</p>\n",
              "</div>\n",
              "      <button class=\"colab-df-convert\" onclick=\"convertToInteractive('df-24dd6528-16dd-4def-94a9-039e2372411a')\"\n",
              "              title=\"Convert this dataframe to an interactive table.\"\n",
              "              style=\"display:none;\">\n",
              "        \n",
              "  <svg xmlns=\"http://www.w3.org/2000/svg\" height=\"24px\"viewBox=\"0 0 24 24\"\n",
              "       width=\"24px\">\n",
              "    <path d=\"M0 0h24v24H0V0z\" fill=\"none\"/>\n",
              "    <path d=\"M18.56 5.44l.94 2.06.94-2.06 2.06-.94-2.06-.94-.94-2.06-.94 2.06-2.06.94zm-11 1L8.5 8.5l.94-2.06 2.06-.94-2.06-.94L8.5 2.5l-.94 2.06-2.06.94zm10 10l.94 2.06.94-2.06 2.06-.94-2.06-.94-.94-2.06-.94 2.06-2.06.94z\"/><path d=\"M17.41 7.96l-1.37-1.37c-.4-.4-.92-.59-1.43-.59-.52 0-1.04.2-1.43.59L10.3 9.45l-7.72 7.72c-.78.78-.78 2.05 0 2.83L4 21.41c.39.39.9.59 1.41.59.51 0 1.02-.2 1.41-.59l7.78-7.78 2.81-2.81c.8-.78.8-2.07 0-2.86zM5.41 20L4 18.59l7.72-7.72 1.47 1.35L5.41 20z\"/>\n",
              "  </svg>\n",
              "      </button>\n",
              "      \n",
              "  <style>\n",
              "    .colab-df-container {\n",
              "      display:flex;\n",
              "      flex-wrap:wrap;\n",
              "      gap: 12px;\n",
              "    }\n",
              "\n",
              "    .colab-df-convert {\n",
              "      background-color: #E8F0FE;\n",
              "      border: none;\n",
              "      border-radius: 50%;\n",
              "      cursor: pointer;\n",
              "      display: none;\n",
              "      fill: #1967D2;\n",
              "      height: 32px;\n",
              "      padding: 0 0 0 0;\n",
              "      width: 32px;\n",
              "    }\n",
              "\n",
              "    .colab-df-convert:hover {\n",
              "      background-color: #E2EBFA;\n",
              "      box-shadow: 0px 1px 2px rgba(60, 64, 67, 0.3), 0px 1px 3px 1px rgba(60, 64, 67, 0.15);\n",
              "      fill: #174EA6;\n",
              "    }\n",
              "\n",
              "    [theme=dark] .colab-df-convert {\n",
              "      background-color: #3B4455;\n",
              "      fill: #D2E3FC;\n",
              "    }\n",
              "\n",
              "    [theme=dark] .colab-df-convert:hover {\n",
              "      background-color: #434B5C;\n",
              "      box-shadow: 0px 1px 3px 1px rgba(0, 0, 0, 0.15);\n",
              "      filter: drop-shadow(0px 1px 2px rgba(0, 0, 0, 0.3));\n",
              "      fill: #FFFFFF;\n",
              "    }\n",
              "  </style>\n",
              "\n",
              "      <script>\n",
              "        const buttonEl =\n",
              "          document.querySelector('#df-24dd6528-16dd-4def-94a9-039e2372411a button.colab-df-convert');\n",
              "        buttonEl.style.display =\n",
              "          google.colab.kernel.accessAllowed ? 'block' : 'none';\n",
              "\n",
              "        async function convertToInteractive(key) {\n",
              "          const element = document.querySelector('#df-24dd6528-16dd-4def-94a9-039e2372411a');\n",
              "          const dataTable =\n",
              "            await google.colab.kernel.invokeFunction('convertToInteractive',\n",
              "                                                     [key], {});\n",
              "          if (!dataTable) return;\n",
              "\n",
              "          const docLinkHtml = 'Like what you see? Visit the ' +\n",
              "            '<a target=\"_blank\" href=https://colab.research.google.com/notebooks/data_table.ipynb>data table notebook</a>'\n",
              "            + ' to learn more about interactive tables.';\n",
              "          element.innerHTML = '';\n",
              "          dataTable['output_type'] = 'display_data';\n",
              "          await google.colab.output.renderOutput(dataTable, element);\n",
              "          const docLink = document.createElement('div');\n",
              "          docLink.innerHTML = docLinkHtml;\n",
              "          element.appendChild(docLink);\n",
              "        }\n",
              "      </script>\n",
              "    </div>\n",
              "  </div>\n",
              "  "
            ],
            "text/plain": [
              "                                                   text  label\n",
              "0     haha babi dia punya tidak menyabar macam ada 1...      1\n",
              "1     ini namanya pns kontol banyak gaya emosi aing ...      1\n",
              "2     pukimak punya jantan trick baru dia guna   bud...      1\n",
              "3     pantat apa eh jual karipap inti basi nak menia...      1\n",
              "4     ini warga emas ke oku le frontliner apa kepent...      1\n",
              "...                                                 ...    ...\n",
              "1855  temen gw banget sudah tau doi nya toxic banget...      0\n",
              "1856  kau komen lebai la mende la vid lucah pn kau l...      1\n",
              "1857  pastu kau tahu kain dalam eh babi aku dah paka...      1\n",
              "1858  sekarang ramai babi dah pandai drive kete atas...      1\n",
              "1859  awak ada potensi hilman   ya babi ada potensi ...      1\n",
              "\n",
              "[1860 rows x 2 columns]"
            ]
          },
          "metadata": {},
          "execution_count": 4
        }
      ],
      "source": [
        "df.columns = [\"text\", \"label\"]\n",
        "df"
      ]
    },
    {
      "cell_type": "code",
      "execution_count": 5,
      "metadata": {
        "colab": {
          "base_uri": "https://localhost:8080/"
        },
        "id": "Ty0T9BF9vL3L",
        "outputId": "5c34eee8-ab82-44e8-def8-8a7998c3b217"
      },
      "outputs": [
        {
          "output_type": "execute_result",
          "data": {
            "text/plain": [
              "1    1188\n",
              "0     672\n",
              "Name: label, dtype: int64"
            ]
          },
          "metadata": {},
          "execution_count": 5
        }
      ],
      "source": [
        "df['label'].value_counts()"
      ]
    },
    {
      "cell_type": "markdown",
      "metadata": {
        "id": "378X34wX0udq"
      },
      "source": [
        "Load the word embeddings from Malaya social media corpus."
      ]
    },
    {
      "cell_type": "code",
      "execution_count": 6,
      "metadata": {
        "colab": {
          "base_uri": "https://localhost:8080/"
        },
        "id": "EOT2QnyqLaM2",
        "outputId": "90c6084e-39bb-484e-b2d1-4c93793b168e"
      },
      "outputs": [
        {
          "output_type": "stream",
          "name": "stdout",
          "text": [
            "Loading word vectors...\n",
            "Word vectors loaded.\n"
          ]
        }
      ],
      "source": [
        "import joblib\n",
        "\n",
        "def load_word_vector(file = 'drive/MyDrive/Colab/Hate/word_vector.pkl'):\n",
        "  from os import path\n",
        "\n",
        "  if path.exists(file):    \n",
        "    print('Loading word vectors...')\n",
        "    word_vector = joblib.load(file)\n",
        "    print('Word vectors loaded.')\n",
        "  else:\n",
        "    !pip install malaya\n",
        "    import malaya\n",
        "\n",
        "    print('Generating word vectors...')\n",
        "    vocab, embedded = malaya.wordvector.load(model = 'socialmedia')\n",
        "    wv = malaya.wordvector.WordVector(embedded, vocab)\n",
        "    word_vector = {word: wv.get_vector_by_name(word) for word in wv.words}\n",
        "    joblib.dump(word_vector, file)\n",
        "    print('Word vectors saved.')\n",
        "    \n",
        "  return word_vector\n",
        "\n",
        "word_vector = load_word_vector()"
      ]
    },
    {
      "cell_type": "markdown",
      "metadata": {
        "id": "DXKxvuZI1A4z"
      },
      "source": [
        "Tokenize all words and build the word embedding matrix."
      ]
    },
    {
      "cell_type": "code",
      "execution_count": 7,
      "metadata": {
        "id": "jlomZEbc1MYg",
        "colab": {
          "base_uri": "https://localhost:8080/",
          "height": 424
        },
        "outputId": "4ce25317-9e28-467c-c866-5bb54dfba362"
      },
      "outputs": [
        {
          "output_type": "execute_result",
          "data": {
            "text/html": [
              "\n",
              "  <div id=\"df-e5b426db-4a2e-4305-ab20-9743e3b624cc\">\n",
              "    <div class=\"colab-df-container\">\n",
              "      <div>\n",
              "<style scoped>\n",
              "    .dataframe tbody tr th:only-of-type {\n",
              "        vertical-align: middle;\n",
              "    }\n",
              "\n",
              "    .dataframe tbody tr th {\n",
              "        vertical-align: top;\n",
              "    }\n",
              "\n",
              "    .dataframe thead th {\n",
              "        text-align: right;\n",
              "    }\n",
              "</style>\n",
              "<table border=\"1\" class=\"dataframe\">\n",
              "  <thead>\n",
              "    <tr style=\"text-align: right;\">\n",
              "      <th></th>\n",
              "      <th>text</th>\n",
              "      <th>label</th>\n",
              "    </tr>\n",
              "  </thead>\n",
              "  <tbody>\n",
              "    <tr>\n",
              "      <th>0</th>\n",
              "      <td>haha babi dia punya tidak menyabar macam ada 1...</td>\n",
              "      <td>1</td>\n",
              "    </tr>\n",
              "    <tr>\n",
              "      <th>1</th>\n",
              "      <td>ini namanya pns kontol banyak gaya emosi aing ...</td>\n",
              "      <td>1</td>\n",
              "    </tr>\n",
              "    <tr>\n",
              "      <th>2</th>\n",
              "      <td>pukimak punya jantan trick baru dia guna   bud...</td>\n",
              "      <td>1</td>\n",
              "    </tr>\n",
              "    <tr>\n",
              "      <th>3</th>\n",
              "      <td>pantat apa eh jual karipap inti basi nak menia...</td>\n",
              "      <td>1</td>\n",
              "    </tr>\n",
              "    <tr>\n",
              "      <th>4</th>\n",
              "      <td>ini warga emas ke oku le frontliner apa kepent...</td>\n",
              "      <td>1</td>\n",
              "    </tr>\n",
              "    <tr>\n",
              "      <th>...</th>\n",
              "      <td>...</td>\n",
              "      <td>...</td>\n",
              "    </tr>\n",
              "    <tr>\n",
              "      <th>1855</th>\n",
              "      <td>temen gw banget sudah tau doi nya toxic banget...</td>\n",
              "      <td>0</td>\n",
              "    </tr>\n",
              "    <tr>\n",
              "      <th>1856</th>\n",
              "      <td>kau komen lebai la mende la vid lucah pn kau l...</td>\n",
              "      <td>1</td>\n",
              "    </tr>\n",
              "    <tr>\n",
              "      <th>1857</th>\n",
              "      <td>pastu kau tahu kain dalam eh babi aku dah paka...</td>\n",
              "      <td>1</td>\n",
              "    </tr>\n",
              "    <tr>\n",
              "      <th>1858</th>\n",
              "      <td>sekarang ramai babi dah pandai drive kete atas...</td>\n",
              "      <td>1</td>\n",
              "    </tr>\n",
              "    <tr>\n",
              "      <th>1859</th>\n",
              "      <td>awak ada potensi hilman   ya babi ada potensi ...</td>\n",
              "      <td>1</td>\n",
              "    </tr>\n",
              "  </tbody>\n",
              "</table>\n",
              "<p>1860 rows × 2 columns</p>\n",
              "</div>\n",
              "      <button class=\"colab-df-convert\" onclick=\"convertToInteractive('df-e5b426db-4a2e-4305-ab20-9743e3b624cc')\"\n",
              "              title=\"Convert this dataframe to an interactive table.\"\n",
              "              style=\"display:none;\">\n",
              "        \n",
              "  <svg xmlns=\"http://www.w3.org/2000/svg\" height=\"24px\"viewBox=\"0 0 24 24\"\n",
              "       width=\"24px\">\n",
              "    <path d=\"M0 0h24v24H0V0z\" fill=\"none\"/>\n",
              "    <path d=\"M18.56 5.44l.94 2.06.94-2.06 2.06-.94-2.06-.94-.94-2.06-.94 2.06-2.06.94zm-11 1L8.5 8.5l.94-2.06 2.06-.94-2.06-.94L8.5 2.5l-.94 2.06-2.06.94zm10 10l.94 2.06.94-2.06 2.06-.94-2.06-.94-.94-2.06-.94 2.06-2.06.94z\"/><path d=\"M17.41 7.96l-1.37-1.37c-.4-.4-.92-.59-1.43-.59-.52 0-1.04.2-1.43.59L10.3 9.45l-7.72 7.72c-.78.78-.78 2.05 0 2.83L4 21.41c.39.39.9.59 1.41.59.51 0 1.02-.2 1.41-.59l7.78-7.78 2.81-2.81c.8-.78.8-2.07 0-2.86zM5.41 20L4 18.59l7.72-7.72 1.47 1.35L5.41 20z\"/>\n",
              "  </svg>\n",
              "      </button>\n",
              "      \n",
              "  <style>\n",
              "    .colab-df-container {\n",
              "      display:flex;\n",
              "      flex-wrap:wrap;\n",
              "      gap: 12px;\n",
              "    }\n",
              "\n",
              "    .colab-df-convert {\n",
              "      background-color: #E8F0FE;\n",
              "      border: none;\n",
              "      border-radius: 50%;\n",
              "      cursor: pointer;\n",
              "      display: none;\n",
              "      fill: #1967D2;\n",
              "      height: 32px;\n",
              "      padding: 0 0 0 0;\n",
              "      width: 32px;\n",
              "    }\n",
              "\n",
              "    .colab-df-convert:hover {\n",
              "      background-color: #E2EBFA;\n",
              "      box-shadow: 0px 1px 2px rgba(60, 64, 67, 0.3), 0px 1px 3px 1px rgba(60, 64, 67, 0.15);\n",
              "      fill: #174EA6;\n",
              "    }\n",
              "\n",
              "    [theme=dark] .colab-df-convert {\n",
              "      background-color: #3B4455;\n",
              "      fill: #D2E3FC;\n",
              "    }\n",
              "\n",
              "    [theme=dark] .colab-df-convert:hover {\n",
              "      background-color: #434B5C;\n",
              "      box-shadow: 0px 1px 3px 1px rgba(0, 0, 0, 0.15);\n",
              "      filter: drop-shadow(0px 1px 2px rgba(0, 0, 0, 0.3));\n",
              "      fill: #FFFFFF;\n",
              "    }\n",
              "  </style>\n",
              "\n",
              "      <script>\n",
              "        const buttonEl =\n",
              "          document.querySelector('#df-e5b426db-4a2e-4305-ab20-9743e3b624cc button.colab-df-convert');\n",
              "        buttonEl.style.display =\n",
              "          google.colab.kernel.accessAllowed ? 'block' : 'none';\n",
              "\n",
              "        async function convertToInteractive(key) {\n",
              "          const element = document.querySelector('#df-e5b426db-4a2e-4305-ab20-9743e3b624cc');\n",
              "          const dataTable =\n",
              "            await google.colab.kernel.invokeFunction('convertToInteractive',\n",
              "                                                     [key], {});\n",
              "          if (!dataTable) return;\n",
              "\n",
              "          const docLinkHtml = 'Like what you see? Visit the ' +\n",
              "            '<a target=\"_blank\" href=https://colab.research.google.com/notebooks/data_table.ipynb>data table notebook</a>'\n",
              "            + ' to learn more about interactive tables.';\n",
              "          element.innerHTML = '';\n",
              "          dataTable['output_type'] = 'display_data';\n",
              "          await google.colab.output.renderOutput(dataTable, element);\n",
              "          const docLink = document.createElement('div');\n",
              "          docLink.innerHTML = docLinkHtml;\n",
              "          element.appendChild(docLink);\n",
              "        }\n",
              "      </script>\n",
              "    </div>\n",
              "  </div>\n",
              "  "
            ],
            "text/plain": [
              "                                                   text  label\n",
              "0     haha babi dia punya tidak menyabar macam ada 1...      1\n",
              "1     ini namanya pns kontol banyak gaya emosi aing ...      1\n",
              "2     pukimak punya jantan trick baru dia guna   bud...      1\n",
              "3     pantat apa eh jual karipap inti basi nak menia...      1\n",
              "4     ini warga emas ke oku le frontliner apa kepent...      1\n",
              "...                                                 ...    ...\n",
              "1855  temen gw banget sudah tau doi nya toxic banget...      0\n",
              "1856  kau komen lebai la mende la vid lucah pn kau l...      1\n",
              "1857  pastu kau tahu kain dalam eh babi aku dah paka...      1\n",
              "1858  sekarang ramai babi dah pandai drive kete atas...      1\n",
              "1859  awak ada potensi hilman   ya babi ada potensi ...      1\n",
              "\n",
              "[1860 rows x 2 columns]"
            ]
          },
          "metadata": {},
          "execution_count": 7
        }
      ],
      "source": [
        "df"
      ]
    },
    {
      "cell_type": "code",
      "execution_count": 8,
      "metadata": {
        "id": "oNFMtgntjUhY"
      },
      "outputs": [],
      "source": [
        "from sklearn.model_selection import train_test_split\n",
        "X_train, X_test, y_train, y_test = train_test_split(df['text'], df['label'], test_size = 0.2, random_state = 123)"
      ]
    },
    {
      "cell_type": "code",
      "execution_count": 9,
      "metadata": {
        "id": "ncXehopGX8Zv"
      },
      "outputs": [],
      "source": [
        "# prepare tokenizer\n",
        "t = Tokenizer()\n",
        "t.fit_on_texts(df['text'])\n",
        "vocab_size = len(t.word_index) + 1"
      ]
    },
    {
      "cell_type": "code",
      "execution_count": 10,
      "metadata": {
        "id": "SdryWrITb3y7"
      },
      "outputs": [],
      "source": [
        "X_train_seq = t.texts_to_sequences(X_train)\n",
        "X_test_seq = t.texts_to_sequences(X_test)\n",
        "\n",
        "# Pad the sequences so each sequence is the same length\n",
        "X_train_seq_padded = pad_sequences(X_train_seq, 50)\n",
        "X_test_seq_padded = pad_sequences(X_test_seq, 50)"
      ]
    },
    {
      "cell_type": "code",
      "execution_count": 11,
      "metadata": {
        "id": "skANDzvRWq53"
      },
      "outputs": [],
      "source": [
        "# create a weight matrix for words in training docs\n",
        "embedding_matrix = np.zeros((vocab_size, 256))\n",
        "for word, i in t.word_index.items():\n",
        "\tembedding_vector = word_vector.get(word)\n",
        "\tif embedding_vector is not None:\n",
        "\t\tembedding_matrix[i] = embedding_vector"
      ]
    },
    {
      "cell_type": "markdown",
      "metadata": {
        "id": "owFhMxGZ1Hte"
      },
      "source": [
        "Build RNN model using Keras and Tensorflow."
      ]
    },
    {
      "cell_type": "code",
      "execution_count": 12,
      "metadata": {
        "id": "BfYAZqHgcu1Z"
      },
      "outputs": [],
      "source": [
        "import keras.backend as K\n",
        "from keras.layers import Dense, Embedding, LSTM, Dropout, Flatten\n",
        "from keras.models import Sequential\n",
        "\n",
        "def precision_m(y_true, y_pred):\n",
        "        true_positives = K.sum(K.round(K.clip(y_true * y_pred, 0, 1)))\n",
        "        predicted_positives = K.sum(K.round(K.clip(y_pred, 0, 1)))\n",
        "        precision = true_positives / (predicted_positives + K.epsilon())\n",
        "        return precision\n",
        "        \n",
        "def recall_m(y_true, y_pred):\n",
        "        true_positives = K.sum(K.round(K.clip(y_true * y_pred, 0, 1)))\n",
        "        possible_positives = K.sum(K.round(K.clip(y_true, 0, 1)))\n",
        "        recall = true_positives / (possible_positives + K.epsilon())\n",
        "        return recall"
      ]
    },
    {
      "cell_type": "code",
      "execution_count": 13,
      "metadata": {
        "id": "YsQNtqQaagHJ"
      },
      "outputs": [],
      "source": [
        "from numpy.random import seed\n",
        "seed(123)\n",
        "from tensorflow.random import set_seed\n",
        "set_seed(234)"
      ]
    },
    {
      "cell_type": "code",
      "execution_count": 14,
      "metadata": {
        "id": "FU8t6oR5YJzc",
        "colab": {
          "base_uri": "https://localhost:8080/"
        },
        "outputId": "6c52226c-f8ca-4854-fc45-b16f08d07b9a"
      },
      "outputs": [
        {
          "output_type": "stream",
          "name": "stdout",
          "text": [
            "WARNING:tensorflow:Layer lstm will not use cuDNN kernels since it doesn't meet the criteria. It will use a generic GPU kernel as fallback when running on GPU.\n",
            "Model: \"sequential\"\n",
            "_________________________________________________________________\n",
            " Layer (type)                Output Shape              Param #   \n",
            "=================================================================\n",
            " embedding (Embedding)       (None, 50, 256)           1677056   \n",
            "                                                                 \n",
            " lstm (LSTM)                 (None, 128)               197120    \n",
            "                                                                 \n",
            " dense (Dense)               (None, 32)                4128      \n",
            "                                                                 \n",
            " dense_1 (Dense)             (None, 1)                 33        \n",
            "                                                                 \n",
            "=================================================================\n",
            "Total params: 1,878,337\n",
            "Trainable params: 201,281\n",
            "Non-trainable params: 1,677,056\n",
            "_________________________________________________________________\n"
          ]
        }
      ],
      "source": [
        "from keras.models import Sequential\n",
        "from keras.layers import Dense\n",
        "from keras.layers import Flatten\n",
        "from keras.layers import Embedding\n",
        "\n",
        "# define model\n",
        "model = Sequential()\n",
        "model.add(Embedding(vocab_size, 256, weights=[embedding_matrix], input_length=50, trainable=False))\n",
        "model.add(LSTM(128, dropout = 0.4, recurrent_dropout = 0.4))\n",
        "model.add(Dense(32, activation = 'relu'))\n",
        "model.add(Dense(1, activation='sigmoid'))\n",
        "\n",
        "model.summary()"
      ]
    },
    {
      "cell_type": "code",
      "execution_count": 15,
      "metadata": {
        "id": "sfEdJO08YAja"
      },
      "outputs": [],
      "source": [
        "# Compile the model\n",
        "model.compile(optimizer=keras.optimizers.Adam(learning_rate=0.001), loss=keras.losses.BinaryCrossentropy(), metrics=['accuracy', precision_m, recall_m])"
      ]
    },
    {
      "cell_type": "code",
      "execution_count": 16,
      "metadata": {
        "id": "qib2Y46cmibI",
        "colab": {
          "base_uri": "https://localhost:8080/"
        },
        "outputId": "4017e6b6-7e92-4e6c-997a-7aba0d444cac"
      },
      "outputs": [
        {
          "output_type": "stream",
          "name": "stdout",
          "text": [
            "(None, 50) <dtype: 'float32'>\n",
            "(None, 1) <dtype: 'float32'>\n",
            "embedding (None, 50) float32\n",
            "lstm (None, 50, 256) float32\n",
            "dense (None, 128) float32\n",
            "dense_1 (None, 32) float32\n"
          ]
        },
        {
          "output_type": "execute_result",
          "data": {
            "text/plain": [
              "[None, None, None, None]"
            ]
          },
          "metadata": {},
          "execution_count": 16
        }
      ],
      "source": [
        "[print(i.shape, i.dtype) for i in model.inputs]\n",
        "[print(o.shape, o.dtype) for o in model.outputs]\n",
        "[print(l.name, l.input_shape, l.dtype) for l in model.layers]"
      ]
    },
    {
      "cell_type": "code",
      "execution_count": 17,
      "metadata": {
        "id": "BsCfr4P0dWNd",
        "colab": {
          "base_uri": "https://localhost:8080/"
        },
        "outputId": "8d34d1ef-d8e9-4092-c70a-ed81beeec5eb"
      },
      "outputs": [
        {
          "output_type": "stream",
          "name": "stdout",
          "text": [
            "Epoch 1/20\n",
            "47/47 [==============================] - 23s 363ms/step - loss: 0.6531 - accuracy: 0.6203 - precision_m: 0.6391 - recall_m: 0.9351 - val_loss: 0.5835 - val_accuracy: 0.7258 - val_precision_m: 0.7382 - val_recall_m: 0.9174\n",
            "Epoch 2/20\n",
            "47/47 [==============================] - 13s 270ms/step - loss: 0.6140 - accuracy: 0.6620 - precision_m: 0.6851 - recall_m: 0.8816 - val_loss: 0.5988 - val_accuracy: 0.7258 - val_precision_m: 0.7153 - val_recall_m: 0.9771\n",
            "Epoch 3/20\n",
            "47/47 [==============================] - 13s 273ms/step - loss: 0.5968 - accuracy: 0.6801 - precision_m: 0.7012 - recall_m: 0.8547 - val_loss: 0.5559 - val_accuracy: 0.7473 - val_precision_m: 0.8009 - val_recall_m: 0.8471\n",
            "Epoch 4/20\n",
            "47/47 [==============================] - 13s 266ms/step - loss: 0.5686 - accuracy: 0.6996 - precision_m: 0.7366 - recall_m: 0.8330 - val_loss: 0.5274 - val_accuracy: 0.7392 - val_precision_m: 0.7541 - val_recall_m: 0.9088\n",
            "Epoch 5/20\n",
            "47/47 [==============================] - 13s 275ms/step - loss: 0.5713 - accuracy: 0.7083 - precision_m: 0.7409 - recall_m: 0.8416 - val_loss: 0.5040 - val_accuracy: 0.7527 - val_precision_m: 0.7928 - val_recall_m: 0.8725\n",
            "Epoch 6/20\n",
            "47/47 [==============================] - 13s 272ms/step - loss: 0.5659 - accuracy: 0.6969 - precision_m: 0.7419 - recall_m: 0.8055 - val_loss: 0.5466 - val_accuracy: 0.7151 - val_precision_m: 0.8382 - val_recall_m: 0.7287\n",
            "Epoch 7/20\n",
            "47/47 [==============================] - 13s 269ms/step - loss: 0.5563 - accuracy: 0.7198 - precision_m: 0.7462 - recall_m: 0.8587 - val_loss: 0.5045 - val_accuracy: 0.7500 - val_precision_m: 0.7952 - val_recall_m: 0.8619\n",
            "Epoch 8/20\n",
            "47/47 [==============================] - 12s 266ms/step - loss: 0.5354 - accuracy: 0.7278 - precision_m: 0.7623 - recall_m: 0.8311 - val_loss: 0.5066 - val_accuracy: 0.7446 - val_precision_m: 0.7964 - val_recall_m: 0.8449\n",
            "Epoch 9/20\n",
            "47/47 [==============================] - 13s 269ms/step - loss: 0.5181 - accuracy: 0.7540 - precision_m: 0.7818 - recall_m: 0.8424 - val_loss: 0.5030 - val_accuracy: 0.7285 - val_precision_m: 0.7572 - val_recall_m: 0.8908\n",
            "Epoch 10/20\n",
            "47/47 [==============================] - 13s 270ms/step - loss: 0.4971 - accuracy: 0.7534 - precision_m: 0.7771 - recall_m: 0.8454 - val_loss: 0.5437 - val_accuracy: 0.7500 - val_precision_m: 0.8371 - val_recall_m: 0.8037\n",
            "Epoch 11/20\n",
            "47/47 [==============================] - 13s 269ms/step - loss: 0.4923 - accuracy: 0.7560 - precision_m: 0.7877 - recall_m: 0.8407 - val_loss: 0.5318 - val_accuracy: 0.7285 - val_precision_m: 0.7798 - val_recall_m: 0.8377\n",
            "Epoch 12/20\n",
            "47/47 [==============================] - 13s 266ms/step - loss: 0.4797 - accuracy: 0.7614 - precision_m: 0.7913 - recall_m: 0.8506 - val_loss: 0.4939 - val_accuracy: 0.7608 - val_precision_m: 0.7997 - val_recall_m: 0.8731\n",
            "Epoch 13/20\n",
            "47/47 [==============================] - 13s 271ms/step - loss: 0.4725 - accuracy: 0.7755 - precision_m: 0.8044 - recall_m: 0.8551 - val_loss: 0.5083 - val_accuracy: 0.7392 - val_precision_m: 0.8421 - val_recall_m: 0.7742\n",
            "Epoch 14/20\n",
            "47/47 [==============================] - 13s 269ms/step - loss: 0.4426 - accuracy: 0.7984 - precision_m: 0.8268 - recall_m: 0.8581 - val_loss: 0.5713 - val_accuracy: 0.7151 - val_precision_m: 0.8922 - val_recall_m: 0.6866\n",
            "Epoch 15/20\n",
            "47/47 [==============================] - 13s 272ms/step - loss: 0.4217 - accuracy: 0.8017 - precision_m: 0.8334 - recall_m: 0.8567 - val_loss: 0.5301 - val_accuracy: 0.7258 - val_precision_m: 0.8001 - val_recall_m: 0.8102\n",
            "Epoch 16/20\n",
            "47/47 [==============================] - 13s 270ms/step - loss: 0.4153 - accuracy: 0.8024 - precision_m: 0.8392 - recall_m: 0.8529 - val_loss: 0.5295 - val_accuracy: 0.7500 - val_precision_m: 0.7694 - val_recall_m: 0.9065\n",
            "Epoch 17/20\n",
            "47/47 [==============================] - 13s 274ms/step - loss: 0.3951 - accuracy: 0.8165 - precision_m: 0.8293 - recall_m: 0.8881 - val_loss: 0.5100 - val_accuracy: 0.7419 - val_precision_m: 0.8257 - val_recall_m: 0.8139\n",
            "Epoch 18/20\n",
            "47/47 [==============================] - 13s 273ms/step - loss: 0.3850 - accuracy: 0.8212 - precision_m: 0.8428 - recall_m: 0.8782 - val_loss: 0.5489 - val_accuracy: 0.7258 - val_precision_m: 0.8171 - val_recall_m: 0.7776\n",
            "Epoch 19/20\n",
            "47/47 [==============================] - 13s 269ms/step - loss: 0.3755 - accuracy: 0.8320 - precision_m: 0.8456 - recall_m: 0.9011 - val_loss: 0.5754 - val_accuracy: 0.6909 - val_precision_m: 0.7985 - val_recall_m: 0.7448\n",
            "Epoch 20/20\n",
            "47/47 [==============================] - 13s 272ms/step - loss: 0.3471 - accuracy: 0.8421 - precision_m: 0.8610 - recall_m: 0.8902 - val_loss: 0.5850 - val_accuracy: 0.7312 - val_precision_m: 0.8143 - val_recall_m: 0.7989\n"
          ]
        }
      ],
      "source": [
        "# Fit the RNN\n",
        "history = model.fit(X_train_seq_padded, y_train, batch_size = 32, epochs = 20, validation_data = (X_test_seq_padded, y_test))"
      ]
    },
    {
      "cell_type": "markdown",
      "metadata": {
        "id": "ZVTbMcv01Os1"
      },
      "source": [
        "Evaluate the model with accuracy, precision, recall and confusion matrix."
      ]
    },
    {
      "cell_type": "code",
      "execution_count": 18,
      "metadata": {
        "id": "1ltSuuuBdV8k",
        "colab": {
          "base_uri": "https://localhost:8080/",
          "height": 809
        },
        "outputId": "dfbc8de2-4b3d-45a8-d159-c1d2a8405fbf"
      },
      "outputs": [
        {
          "output_type": "display_data",
          "data": {
            "image/png": "[encoded data removed]",
            "text/plain": [
              "<Figure size 432x288 with 1 Axes>"
            ]
          },
          "metadata": {
            "needs_background": "light"
          }
        },
        {
          "output_type": "display_data",
          "data": {
            "image/png": "[encoded data removed]",
            "text/plain": [
              "<Figure size 432x288 with 1 Axes>"
            ]
          },
          "metadata": {
            "needs_background": "light"
          }
        },
        {
          "output_type": "display_data",
          "data": {
            "image/png": "[encoded data removed]",
            "text/plain": [
              "<Figure size 432x288 with 1 Axes>"
            ]
          },
          "metadata": {
            "needs_background": "light"
          }
        }
      ],
      "source": [
        "# Plot basic evaluation metrics across epochs\n",
        "import matplotlib.pyplot as plt\n",
        "%matplotlib inline\n",
        "\n",
        "for i in ['accuracy', 'precision_m', 'recall_m']:\n",
        "    acc = history.history[i]\n",
        "    val_acc = history.history['val_{}'.format(i)]\n",
        "    epochs = range(1, len(acc) + 1)\n",
        "\n",
        "    plt.figure()\n",
        "    plt.plot(epochs, acc, label='Training Accuracy')\n",
        "    plt.plot(epochs, val_acc, label='Validation Accuracy')\n",
        "    plt.title('Results for {}'.format(i))\n",
        "    plt.legend()\n",
        "    plt.show()"
      ]
    },
    {
      "cell_type": "code",
      "execution_count": 19,
      "metadata": {
        "id": "WyIl3UB0tC-5",
        "colab": {
          "base_uri": "https://localhost:8080/",
          "height": 285
        },
        "outputId": "ccc0a35f-8b4d-4e3a-ef1e-2558bb407cf7"
      },
      "outputs": [
        {
          "output_type": "execute_result",
          "data": {
            "text/plain": [
              "<matplotlib.axes._subplots.AxesSubplot at 0x7ffa6f43ca90>"
            ]
          },
          "metadata": {},
          "execution_count": 19
        },
        {
          "output_type": "display_data",
          "data": {
            "image/png": "[encoded data removed]",
            "text/plain": [
              "<Figure size 432x288 with 2 Axes>"
            ]
          },
          "metadata": {
            "needs_background": "light"
          }
        }
      ],
      "source": [
        "from sklearn.metrics import confusion_matrix\n",
        "import seaborn as sns\n",
        "\n",
        "y_pred = (model.predict(X_test_seq_padded) > 0.5).astype('int32')\n",
        "cm = confusion_matrix(y_test, y_pred)\n",
        "sns.heatmap(cm, annot=True, fmt='d')"
      ]
    },
    {
      "cell_type": "code",
      "execution_count": 20,
      "metadata": {
        "id": "bT7M0DmWwJMc",
        "colab": {
          "base_uri": "https://localhost:8080/"
        },
        "outputId": "2ba273e4-39b0-4619-d84c-ba19ffd0584f"
      },
      "outputs": [
        {
          "output_type": "stream",
          "name": "stdout",
          "text": [
            "12/12 - 0s - loss: 0.5850 - accuracy: 0.7312 - precision_m: 0.8143 - recall_m: 0.7989 - 283ms/epoch - 24ms/step\n",
            "[0.5850065350532532, 0.7311828136444092, 0.8142671585083008, 0.798948347568512]\n"
          ]
        }
      ],
      "source": [
        "score = model.evaluate(X_test_seq_padded, y_test, verbose=2)\n",
        "print(score)"
      ]
    },
    {
      "cell_type": "markdown",
      "metadata": {
        "id": "TGCgUCkXJ-xO"
      },
      "source": [
        "Make predictions on sample sentences."
      ]
    },
    {
      "cell_type": "code",
      "execution_count": 21,
      "metadata": {
        "id": "15vLnKyNBTAD",
        "colab": {
          "base_uri": "https://localhost:8080/",
          "height": 143
        },
        "outputId": "c1792012-be4a-4330-f924-fbae3a8c51ba"
      },
      "outputs": [
        {
          "output_type": "execute_result",
          "data": {
            "text/html": [
              "\n",
              "  <div id=\"df-5c6e2062-6625-4b88-a244-dc993932767f\">\n",
              "    <div class=\"colab-df-container\">\n",
              "      <div>\n",
              "<style scoped>\n",
              "    .dataframe tbody tr th:only-of-type {\n",
              "        vertical-align: middle;\n",
              "    }\n",
              "\n",
              "    .dataframe tbody tr th {\n",
              "        vertical-align: top;\n",
              "    }\n",
              "\n",
              "    .dataframe thead th {\n",
              "        text-align: right;\n",
              "    }\n",
              "</style>\n",
              "<table border=\"1\" class=\"dataframe\">\n",
              "  <thead>\n",
              "    <tr style=\"text-align: right;\">\n",
              "      <th></th>\n",
              "      <th>Sentence</th>\n",
              "      <th>Probability</th>\n",
              "      <th>Prediction</th>\n",
              "    </tr>\n",
              "  </thead>\n",
              "  <tbody>\n",
              "    <tr>\n",
              "      <th>0</th>\n",
              "      <td>kau semua bodoh</td>\n",
              "      <td>0.993892</td>\n",
              "      <td>1</td>\n",
              "    </tr>\n",
              "    <tr>\n",
              "      <th>1</th>\n",
              "      <td>Aku pergi sekolah.</td>\n",
              "      <td>0.119757</td>\n",
              "      <td>0</td>\n",
              "    </tr>\n",
              "    <tr>\n",
              "      <th>2</th>\n",
              "      <td>Anjing aku comel.</td>\n",
              "      <td>0.355538</td>\n",
              "      <td>0</td>\n",
              "    </tr>\n",
              "  </tbody>\n",
              "</table>\n",
              "</div>\n",
              "      <button class=\"colab-df-convert\" onclick=\"convertToInteractive('df-5c6e2062-6625-4b88-a244-dc993932767f')\"\n",
              "              title=\"Convert this dataframe to an interactive table.\"\n",
              "              style=\"display:none;\">\n",
              "        \n",
              "  <svg xmlns=\"http://www.w3.org/2000/svg\" height=\"24px\"viewBox=\"0 0 24 24\"\n",
              "       width=\"24px\">\n",
              "    <path d=\"M0 0h24v24H0V0z\" fill=\"none\"/>\n",
              "    <path d=\"M18.56 5.44l.94 2.06.94-2.06 2.06-.94-2.06-.94-.94-2.06-.94 2.06-2.06.94zm-11 1L8.5 8.5l.94-2.06 2.06-.94-2.06-.94L8.5 2.5l-.94 2.06-2.06.94zm10 10l.94 2.06.94-2.06 2.06-.94-2.06-.94-.94-2.06-.94 2.06-2.06.94z\"/><path d=\"M17.41 7.96l-1.37-1.37c-.4-.4-.92-.59-1.43-.59-.52 0-1.04.2-1.43.59L10.3 9.45l-7.72 7.72c-.78.78-.78 2.05 0 2.83L4 21.41c.39.39.9.59 1.41.59.51 0 1.02-.2 1.41-.59l7.78-7.78 2.81-2.81c.8-.78.8-2.07 0-2.86zM5.41 20L4 18.59l7.72-7.72 1.47 1.35L5.41 20z\"/>\n",
              "  </svg>\n",
              "      </button>\n",
              "      \n",
              "  <style>\n",
              "    .colab-df-container {\n",
              "      display:flex;\n",
              "      flex-wrap:wrap;\n",
              "      gap: 12px;\n",
              "    }\n",
              "\n",
              "    .colab-df-convert {\n",
              "      background-color: #E8F0FE;\n",
              "      border: none;\n",
              "      border-radius: 50%;\n",
              "      cursor: pointer;\n",
              "      display: none;\n",
              "      fill: #1967D2;\n",
              "      height: 32px;\n",
              "      padding: 0 0 0 0;\n",
              "      width: 32px;\n",
              "    }\n",
              "\n",
              "    .colab-df-convert:hover {\n",
              "      background-color: #E2EBFA;\n",
              "      box-shadow: 0px 1px 2px rgba(60, 64, 67, 0.3), 0px 1px 3px 1px rgba(60, 64, 67, 0.15);\n",
              "      fill: #174EA6;\n",
              "    }\n",
              "\n",
              "    [theme=dark] .colab-df-convert {\n",
              "      background-color: #3B4455;\n",
              "      fill: #D2E3FC;\n",
              "    }\n",
              "\n",
              "    [theme=dark] .colab-df-convert:hover {\n",
              "      background-color: #434B5C;\n",
              "      box-shadow: 0px 1px 3px 1px rgba(0, 0, 0, 0.15);\n",
              "      filter: drop-shadow(0px 1px 2px rgba(0, 0, 0, 0.3));\n",
              "      fill: #FFFFFF;\n",
              "    }\n",
              "  </style>\n",
              "\n",
              "      <script>\n",
              "        const buttonEl =\n",
              "          document.querySelector('#df-5c6e2062-6625-4b88-a244-dc993932767f button.colab-df-convert');\n",
              "        buttonEl.style.display =\n",
              "          google.colab.kernel.accessAllowed ? 'block' : 'none';\n",
              "\n",
              "        async function convertToInteractive(key) {\n",
              "          const element = document.querySelector('#df-5c6e2062-6625-4b88-a244-dc993932767f');\n",
              "          const dataTable =\n",
              "            await google.colab.kernel.invokeFunction('convertToInteractive',\n",
              "                                                     [key], {});\n",
              "          if (!dataTable) return;\n",
              "\n",
              "          const docLinkHtml = 'Like what you see? Visit the ' +\n",
              "            '<a target=\"_blank\" href=https://colab.research.google.com/notebooks/data_table.ipynb>data table notebook</a>'\n",
              "            + ' to learn more about interactive tables.';\n",
              "          element.innerHTML = '';\n",
              "          dataTable['output_type'] = 'display_data';\n",
              "          await google.colab.output.renderOutput(dataTable, element);\n",
              "          const docLink = document.createElement('div');\n",
              "          docLink.innerHTML = docLinkHtml;\n",
              "          element.appendChild(docLink);\n",
              "        }\n",
              "      </script>\n",
              "    </div>\n",
              "  </div>\n",
              "  "
            ],
            "text/plain": [
              "             Sentence  Probability  Prediction\n",
              "0     kau semua bodoh     0.993892           1\n",
              "1  Aku pergi sekolah.     0.119757           0\n",
              "2   Anjing aku comel.     0.355538           0"
            ]
          },
          "metadata": {},
          "execution_count": 21
        }
      ],
      "source": [
        "sentences = [\"kau semua bodoh\", \"Aku pergi sekolah.\", \"Anjing aku comel.\"]\n",
        "\n",
        "sequences = t.texts_to_sequences(sentences)\n",
        "padded_seqs = pad_sequences(sequences, 50)\n",
        "\n",
        "pred = model.predict(padded_seqs).reshape(-1)\n",
        "\n",
        "pd.DataFrame({\n",
        "    'Sentence': sentences,\n",
        "    'Probability': pred,\n",
        "    'Prediction': (pred > 0.5).astype('int')\n",
        "})"
      ]
    },
    {
      "cell_type": "markdown",
      "metadata": {
        "id": "-Y-OcpmuLOjz"
      },
      "source": [
        "Save model to file."
      ]
    },
    {
      "cell_type": "code",
      "execution_count": 22,
      "metadata": {
        "id": "gBVPxYPH1tnS",
        "colab": {
          "base_uri": "https://localhost:8080/"
        },
        "outputId": "24bc272c-0eca-4ded-c176-dff63a53b3e9"
      },
      "outputs": [
        {
          "output_type": "stream",
          "name": "stdout",
          "text": [
            "INFO:tensorflow:Assets written to: drive/MyDrive/Colab/Hate/rnn_model/assets\n"
          ]
        },
        {
          "output_type": "stream",
          "name": "stderr",
          "text": [
            "WARNING:absl:<keras.layers.recurrent.LSTMCell object at 0x7ffa6e50d990> has the same name 'LSTMCell' as a built-in Keras object. Consider renaming <class 'keras.layers.recurrent.LSTMCell'> to avoid naming conflicts when loading with `tf.keras.models.load_model`. If renaming is not possible, pass the object in the `custom_objects` parameter of the load function.\n"
          ]
        }
      ],
      "source": [
        "model.save('drive/MyDrive/Colab/Hate/rnn_model')"
      ]
    }
  ],
  "metadata": {
    "colab": {
      "collapsed_sections": [],
      "name": "Hate_04_RNN.ipynb",
      "provenance": []
    },
    "kernelspec": {
      "display_name": "Python 3.9.0 64-bit",
      "name": "python390jvsc74a57bd02647ea34e536f865ab67ff9ddee7fd78773d956cec0cab53c79b32cd10da5d83"
    },
    "language_info": {
      "codemirror_mode": {
        "name": "ipython",
        "version": 3
      },
      "file_extension": ".py",
      "mimetype": "text/x-python",
      "name": "python",
      "nbconvert_exporter": "python",
      "pygments_lexer": "ipython3",
      "version": "3.9.0"
    },
    "metadata": {
      "interpreter": {
        "hash": "2647ea34e536f865ab67ff9ddee7fd78773d956cec0cab53c79b32cd10da5d83"
      }
    },
    "accelerator": "GPU"
  },
  "nbformat": 4,
  "nbformat_minor": 0
}